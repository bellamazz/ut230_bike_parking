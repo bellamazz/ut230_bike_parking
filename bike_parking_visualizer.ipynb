{
 "cells": [
  {
   "cell_type": "markdown",
   "id": "a0ba7f55-98bf-4298-87b9-a8ec0e95be7b",
   "metadata": {},
   "source": [
    "<h1>Bike Parking Topology Visualizer</h1>\n",
    "<p>Use this notebook to generate visualizations of bike parking from an XML file containing information about the parking setup.</p>"
   ]
  },
  {
   "cell_type": "markdown",
   "id": "6a1e64b6-d5d2-40d0-9ca7-ec32dec35959",
   "metadata": {},
   "source": [
    "<h2>Class Definitions</h2>"
   ]
  },
  {
   "cell_type": "code",
   "execution_count": 104,
   "id": "514c426d-6296-4018-855e-9f9a573b7b35",
   "metadata": {},
   "outputs": [],
   "source": [
    "#class definitions\n",
    "\n",
    "class bike:\n",
    "    def __init__(self, security):\n",
    "        self.security = security\n",
    "\n",
    "    def width_factor(self):\n",
    "        return 1\n",
    "\n",
    "class lock:\n",
    "    def __init__(self, security, bikes):\n",
    "        self.security = security\n",
    "        self.bikes = bikes\n",
    "        \n",
    "    def add_bike(self, bike):\n",
    "        self.bikes.append(bike)\n",
    "\n",
    "    def width_factor(self):\n",
    "        factor = 0\n",
    "        for bike in self.bikes:\n",
    "            factor += bike.width_factor()\n",
    "        if factor == 0:\n",
    "            return 1\n",
    "        return factor\n",
    "\n",
    "class loop:\n",
    "    def __init__(self, security, locks):\n",
    "        self.security = security\n",
    "        self.locks = locks\n",
    "\n",
    "    def add_lock(self, lock):\n",
    "        self.locks.append(lock)\n",
    "\n",
    "    def width_factor(self):\n",
    "        factor = 0\n",
    "        for lock in self.locks:\n",
    "            factor += lock.width_factor()\n",
    "        if factor == 0:\n",
    "            return 1\n",
    "        return factor\n",
    "\n",
    "class space:\n",
    "    def __init__(self, security, loops):\n",
    "        self.security = security\n",
    "        self.loops = loops\n",
    "\n",
    "    def add_loop(self, loop):\n",
    "        self.loops.append(loop)\n",
    "\n",
    "    def width_factor(self):\n",
    "        factor = 0\n",
    "        for loop in self.loops:\n",
    "            factor += loop.width_factor()\n",
    "        if factor == 0:\n",
    "            return 1\n",
    "        return factor\n",
    "        \n",
    "class bike_parking:\n",
    "\n",
    "    def __init__(self, spaces):\n",
    "        self.spaces = spaces\n",
    "\n",
    "    def add_space(self, space):\n",
    "        self.spaces.append(space)\n",
    "\n",
    "    def __str__(self):\n",
    "        string = \"\"\n",
    "        for space in self.spaces:\n",
    "            string += (\"\\nSpace  \" + str(space.security))\n",
    "            for loop in space.loops:\n",
    "                string += (\"\\nLoop    \" + str(loop.security))\n",
    "                for lock in loop.locks:\n",
    "                    string += (\"\\nLock     \" + str(lock.security))\n",
    "                    for bike in lock.bikes:\n",
    "                        string += (\"\\nBike      \" + str(bike.security))\n",
    "        return string\n",
    "\n",
    "    def width_factor(self):\n",
    "        factor = 0\n",
    "        for space in self.spaces:\n",
    "            factor += space.width_factor()\n",
    "        if factor == 0:\n",
    "            return 1\n",
    "        return factor"
   ]
  },
  {
   "cell_type": "markdown",
   "id": "afc6d997-9de3-4018-b03e-d9fc8387cdfe",
   "metadata": {},
   "source": [
    "<h2>XML Parsing</h2>"
   ]
  },
  {
   "cell_type": "code",
   "execution_count": 111,
   "id": "7e6fbf49-362c-42c6-a379-4bb165c8457c",
   "metadata": {
    "scrolled": true
   },
   "outputs": [
    {
     "name": "stdout",
     "output_type": "stream",
     "text": [
      "\n",
      "Space  1\n",
      "Loop    2\n",
      "Lock     3\n",
      "Bike      4\n"
     ]
    }
   ],
   "source": [
    "#xml parser\n",
    "import xml.etree.ElementTree as ET\n",
    "tree = ET.parse(\"rack_data.xml\") #YOUR XML HERE\n",
    "root = tree.getroot()\n",
    "\n",
    "parking1 = bike_parking([])\n",
    "\n",
    "i=0\n",
    "j=0\n",
    "k=0\n",
    "\n",
    "for a in root:\n",
    "    num = int(a.get('security'))\n",
    "    toadd = space(num, [])\n",
    "    parking1.add_space(toadd)\n",
    "    for b in a:\n",
    "        num = int(b.get('security'))\n",
    "        toadd = loop(num, [])\n",
    "        parking1.spaces[i].add_loop(toadd)\n",
    "        for c in b:\n",
    "            num = int(c.get('security'))\n",
    "            toadd = lock(num, [])\n",
    "            parking1.spaces[i].loops[j].add_lock(toadd)\n",
    "            for d in c:\n",
    "                num = int(d.get('security'))\n",
    "                toadd = bike(num)\n",
    "                parking1.spaces[i].loops[j].locks[k].add_bike(toadd)\n",
    "            k += 1\n",
    "        j += 1\n",
    "        k=0\n",
    "    i += 1\n",
    "    j=0\n",
    "\n",
    "print(parking1)"
   ]
  },
  {
   "cell_type": "markdown",
   "id": "d0ee5214-6ccf-4a36-b550-4e67d9ff7dfe",
   "metadata": {},
   "source": [
    "<h2>Create Visualization</h2>"
   ]
  },
  {
   "cell_type": "code",
   "execution_count": 109,
   "id": "fce122d9-91d1-4f1a-b970-27590d64c7f6",
   "metadata": {},
   "outputs": [
    {
     "data": {
      "image/jpeg": "[encoded data removed]",
      "image/png": "[encoded data removed]",
      "text/plain": [
       "<PIL.Image.Image image mode=RGB size=220x500>"
      ]
     },
     "metadata": {},
     "output_type": "display_data"
    }
   ],
   "source": [
    "#create the visualization (this is the new version)\n",
    "\n",
    "from PIL import Image, ImageDraw, ImageFont\n",
    "\n",
    "colors = {0 : (255,255,255, 0), 1 : (255, 0, 0, 128), 2: (255, 153, 0, 128), 3 : (255, 229,0, 128), 4 : (143, 255, 0, 128)}\n",
    "\n",
    "image = Image.new(\"RGB\", (parking1.width_factor() * 200 + 20, 500), \"black\")\n",
    "app = ImageDraw.Draw(image, \"RGBA\")\n",
    "\n",
    "font = ImageFont.truetype(\"arial.ttf\", 40)\n",
    "\n",
    "x_cursor = 20\n",
    "move_flag = False\n",
    "\n",
    "for space_ob in parking1.spaces:\n",
    "    y_cursor = 100\n",
    "    shape = [(x_cursor, y_cursor), (x_cursor + (space_ob.width_factor() * 200) - 20, y_cursor + 100)] \n",
    "    app.rectangle(shape, fill = colors[space_ob.security])\n",
    "    app.text((x_cursor + (space_ob.width_factor() * 100) - 50, y_cursor + 30), \"Space\", font=font)\n",
    "    if len(space_ob.loops) == 0:\n",
    "        x_cursor += 200 * space_ob.width_factor()\n",
    "    for loop_ob in space_ob.loops:\n",
    "        y_cursor = 175\n",
    "        shape = [(x_cursor, y_cursor), (x_cursor + (loop_ob.width_factor() * 200) - 20, y_cursor + 100)] \n",
    "        app.rectangle(shape, fill = colors[loop_ob.security])\n",
    "        app.text((x_cursor + (loop_ob.width_factor() * 100) - 50, y_cursor + 30), \"Loop\", font=font)\n",
    "        if len(loop_ob.locks) == 0:\n",
    "            x_cursor += 200 * loop_ob.width_factor()\n",
    "        for lock_ob in loop_ob.locks:\n",
    "            y_cursor = 250\n",
    "            shape = [(x_cursor, y_cursor), (x_cursor + (lock_ob.width_factor() * 200) - 20, y_cursor + 100)] \n",
    "            app.rectangle(shape, fill = colors[lock_ob.security])\n",
    "            app.text((x_cursor + (lock_ob.width_factor() * 100) - 50, y_cursor + 30), \"Lock\", font=font)\n",
    "            if len(lock_ob.bikes) == 0:\n",
    "                x_cursor += 200 * lock_ob.width_factor()\n",
    "            for bike_ob in lock_ob.bikes:\n",
    "                y_cursor = 325\n",
    "                shape = [(x_cursor, y_cursor), (x_cursor + (bike_ob.width_factor() * 200) - 20, y_cursor + 100)] \n",
    "                app.rectangle(shape, fill = colors[bike_ob.security])\n",
    "                app.text((x_cursor + (bike_ob.width_factor() * 100) - 50, y_cursor + 30), \"Bike\", font=font)\n",
    "                x_cursor += 200 * bike_ob.width_factor()\n",
    "\n",
    "display(image)"
   ]
  },
  {
   "cell_type": "markdown",
   "id": "ce10ffeb-ddb8-432c-a378-f3dcce974128",
   "metadata": {},
   "source": [
    "<h2>Save Visualization</h2>"
   ]
  },
  {
   "cell_type": "code",
   "execution_count": 110,
   "id": "6f0991f6-14b1-4f20-97d4-1057720b438a",
   "metadata": {},
   "outputs": [],
   "source": [
    "image.save(\"generated\\\\image.png\") #YOUR IMAGE PATH HERE"
   ]
  }
 ],
 "metadata": {
  "kernelspec": {
   "display_name": "Python 3 (ipykernel)",
   "language": "python",
   "name": "python3"
  },
  "language_info": {
   "codemirror_mode": {
    "name": "ipython",
    "version": 3
   },
   "file_extension": ".py",
   "mimetype": "text/x-python",
   "name": "python",
   "nbconvert_exporter": "python",
   "pygments_lexer": "ipython3",
   "version": "3.11.7"
  }
 },
 "nbformat": 4,
 "nbformat_minor": 5
}
